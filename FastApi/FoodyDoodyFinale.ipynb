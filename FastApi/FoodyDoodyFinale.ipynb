{
  "nbformat": 4,
  "nbformat_minor": 0,
  "metadata": {
    "accelerator": "GPU",
    "colab": {
      "name": "FoodyDoodyFinale.ipynb",
      "provenance": [],
      "collapsed_sections": [],
      "machine_shape": "hm"
    },
    "kernelspec": {
      "display_name": "Python 3",
      "name": "python3"
    },
    "language_info": {
      "name": "python"
    }
  },
  "cells": [
    {
      "cell_type": "markdown",
      "metadata": {
        "id": "hqRGtqQ8oxGX"
      },
      "source": [
        "Install Pytorch and fastbook"
      ]
    },
    {
      "cell_type": "code",
      "metadata": {
        "id": "jUpmouq3qgtZ",
        "colab": {
          "base_uri": "https://localhost:8080/"
        },
        "outputId": "0713d5ec-812c-4a2e-b9db-2b37e049226d"
      },
      "source": [
        "!pip install torch\n",
        "!pip install -Uqq fastbook\n",
        "import fastbook"
      ],
      "execution_count": 2,
      "outputs": [
        {
          "output_type": "stream",
          "text": [
            "Requirement already satisfied: torch in /usr/local/lib/python3.7/dist-packages (1.9.0+cu102)\n",
            "Requirement already satisfied: typing-extensions in /usr/local/lib/python3.7/dist-packages (from torch) (3.7.4.3)\n",
            "\u001b[K     |████████████████████████████████| 727kB 27.3MB/s \n",
            "\u001b[K     |████████████████████████████████| 1.2MB 38.9MB/s \n",
            "\u001b[K     |████████████████████████████████| 194kB 57.2MB/s \n",
            "\u001b[K     |████████████████████████████████| 51kB 7.9MB/s \n",
            "\u001b[K     |████████████████████████████████| 61kB 10.5MB/s \n",
            "\u001b[K     |████████████████████████████████| 61kB 10.5MB/s \n",
            "\u001b[?25h"
          ],
          "name": "stdout"
        }
      ]
    },
    {
      "cell_type": "markdown",
      "metadata": {
        "id": "UbzNXg3No7of"
      },
      "source": [
        "Import fastbook, colab, image display library"
      ]
    },
    {
      "cell_type": "code",
      "metadata": {
        "id": "aV2u50cBm2Ds"
      },
      "source": [
        "from fastbook import *\n",
        "from google.colab import files\n",
        "from IPython.display import Image\n",
        "from IPython.display import HTML"
      ],
      "execution_count": 3,
      "outputs": []
    },
    {
      "cell_type": "markdown",
      "metadata": {
        "id": "cUDnG7cDpFT9"
      },
      "source": [
        "Get images from github"
      ]
    },
    {
      "cell_type": "code",
      "metadata": {
        "id": "43tQBcZ2ncFv"
      },
      "source": [
        "!npx degit github:GemmyTheGeek/FoodyDudy FoodyDudy --force\n",
        "path = Path('FoodyDudy/images')"
      ],
      "execution_count": null,
      "outputs": []
    },
    {
      "cell_type": "markdown",
      "metadata": {
        "id": "Q6YLZetOpROQ"
      },
      "source": [
        "Create\n",
        " Datablock"
      ]
    },
    {
      "cell_type": "code",
      "metadata": {
        "id": "tfQu0EWlC8gx"
      },
      "source": [
        "dblock = DataBlock(\n",
        "    blocks=(ImageBlock, CategoryBlock), #x - image; y - single class\n",
        "    get_items=get_image_files, #get image\n",
        "    splitter=GrandparentSplitter(), #use parent folder as train-valid split\n",
        "    get_y=parent_label, #use parent folder as label\n",
        "    #two choices for resizing and rationale\n",
        "    #squishing to prevent cropping places without chips/raisins\n",
        "    # item_tfms=Resize(224, method=ResizeMethod.Squish), \n",
        "    # #cropping to preserve image quality; tried and doesn't work - peaked at 0.85 val acc\n",
        "    # item_tfms=RandomResizedCrop(512),\n",
        "    batch_tfms=aug_transforms(size=512)\n",
        "    )\n",
        "dls = dblock.dataloaders(path, bs=64) #batch size = 64"
      ],
      "execution_count": null,
      "outputs": []
    },
    {
      "cell_type": "code",
      "metadata": {
        "id": "HluRt_rDkp0m"
      },
      "source": [
        "dls.train.show_batch(max_n=70,nrows=10)"
      ],
      "execution_count": null,
      "outputs": []
    },
    {
      "cell_type": "markdown",
      "metadata": {
        "id": "f1ia_4jgpWi1"
      },
      "source": [
        "Training"
      ]
    },
    {
      "cell_type": "code",
      "metadata": {
        "id": "mfBzD4-z48Ir"
      },
      "source": [
        "learn = cnn_learner(dls, resnet34, metrics=error_rate)\n",
        "learn.fine_tune(10)"
      ],
      "execution_count": null,
      "outputs": []
    },
    {
      "cell_type": "markdown",
      "metadata": {
        "id": "iIKjszgVGn7E"
      },
      "source": [
        "Creating a Confusion Matrix"
      ]
    },
    {
      "cell_type": "code",
      "metadata": {
        "id": "gz-E5t6V5ZLD"
      },
      "source": [
        "interp = ClassificationInterpretation.from_learner(learn)\n",
        "interp.plot_confusion_matrix(figsize=(10,10))"
      ],
      "execution_count": null,
      "outputs": []
    },
    {
      "cell_type": "markdown",
      "metadata": {
        "id": "ALQsJgelGxTC"
      },
      "source": [
        "Displaying Food Chart"
      ]
    },
    {
      "cell_type": "code",
      "metadata": {
        "id": "kYfsSMgzxN2-"
      },
      "source": [
        "Image('47thaifood.png')"
      ],
      "execution_count": null,
      "outputs": []
    },
    {
      "cell_type": "markdown",
      "metadata": {
        "id": "XcXOtssHG2wr"
      },
      "source": [
        "Prints Top Loss"
      ]
    },
    {
      "cell_type": "code",
      "metadata": {
        "id": "UoVXGwUb226T"
      },
      "source": [
        "interp.plot_top_losses(100, nrows=10)"
      ],
      "execution_count": null,
      "outputs": []
    },
    {
      "cell_type": "markdown",
      "metadata": {
        "id": "ELMjokHiG68S"
      },
      "source": [
        "Saving the model"
      ]
    },
    {
      "cell_type": "code",
      "metadata": {
        "id": "KYPaZGwZrqkq"
      },
      "source": [
        "learn.save('model')"
      ],
      "execution_count": null,
      "outputs": []
    },
    {
      "cell_type": "markdown",
      "metadata": {
        "id": "8quI1RqQG_-C"
      },
      "source": [
        "Exporting the model"
      ]
    },
    {
      "cell_type": "code",
      "metadata": {
        "id": "t0mCIRSe9_YD"
      },
      "source": [
        "exportfilename='export.pkl'\n",
        "learn.export(exportfilename)\n",
        "path = Path()\n",
        "path.ls(file_exts='.pkl')"
      ],
      "execution_count": null,
      "outputs": []
    },
    {
      "cell_type": "markdown",
      "metadata": {
        "id": "reQ5FL4zHDeU"
      },
      "source": [
        "Creating the datablock that is used for the test set"
      ]
    },
    {
      "cell_type": "code",
      "metadata": {
        "id": "QGP1Upb7hbIR"
      },
      "source": [
        "dblock2 = DataBlock(\n",
        "    blocks=(ImageBlock, CategoryBlock), #x - image; y - single class\n",
        "    get_items=get_image_files, #get image\n",
        "    splitter=GrandparentSplitter(valid_name='test'), #use parent folder as train-test split\n",
        "    get_y=parent_label, #use parent folder as label\n",
        "    batch_tfms=aug_transforms(size=512)\n",
        "    )\n",
        "dls2 = dblock2.dataloaders(path, bs=64) #batch size = 64\n",
        "\n",
        "learn = cnn_learner(dls2, resnet34, metrics=error_rate).to_fp16()\n",
        "#load trained model\n",
        "learn.load('model');"
      ],
      "execution_count": null,
      "outputs": []
    },
    {
      "cell_type": "markdown",
      "metadata": {
        "id": "3m4jd3nPHNF6"
      },
      "source": [
        "Creating a Confusion Matrix for test set"
      ]
    },
    {
      "cell_type": "code",
      "metadata": {
        "id": "J9QKp1H1s9hP"
      },
      "source": [
        "interp = ClassificationInterpretation.from_learner(learn)\n",
        "interp.plot_confusion_matrix(figsize=(10,10))"
      ],
      "execution_count": null,
      "outputs": []
    },
    {
      "cell_type": "markdown",
      "metadata": {
        "id": "aJTIVb-pHSB5"
      },
      "source": [
        "Prints out classification Report"
      ]
    },
    {
      "cell_type": "code",
      "metadata": {
        "id": "JjtoHqHEtR8W"
      },
      "source": [
        "interp.print_classification_report() "
      ],
      "execution_count": null,
      "outputs": []
    },
    {
      "cell_type": "markdown",
      "metadata": {
        "id": "9w6yGOvgHW3b"
      },
      "source": [
        "Download the model into local drive"
      ]
    },
    {
      "cell_type": "code",
      "metadata": {
        "colab": {
          "base_uri": "https://localhost:8080/",
          "height": 17
        },
        "id": "DR38oNGNjmda",
        "outputId": "a75b31ac-f2b0-4122-d16b-49bea3e7bb3e"
      },
      "source": [
        "files.download(exportfilename)"
      ],
      "execution_count": null,
      "outputs": [
        {
          "output_type": "display_data",
          "data": {
            "application/javascript": [
              "\n",
              "    async function download(id, filename, size) {\n",
              "      if (!google.colab.kernel.accessAllowed) {\n",
              "        return;\n",
              "      }\n",
              "      const div = document.createElement('div');\n",
              "      const label = document.createElement('label');\n",
              "      label.textContent = `Downloading \"${filename}\": `;\n",
              "      div.appendChild(label);\n",
              "      const progress = document.createElement('progress');\n",
              "      progress.max = size;\n",
              "      div.appendChild(progress);\n",
              "      document.body.appendChild(div);\n",
              "\n",
              "      const buffers = [];\n",
              "      let downloaded = 0;\n",
              "\n",
              "      const channel = await google.colab.kernel.comms.open(id);\n",
              "      // Send a message to notify the kernel that we're ready.\n",
              "      channel.send({})\n",
              "\n",
              "      for await (const message of channel.messages) {\n",
              "        // Send a message to notify the kernel that we're ready.\n",
              "        channel.send({})\n",
              "        if (message.buffers) {\n",
              "          for (const buffer of message.buffers) {\n",
              "            buffers.push(buffer);\n",
              "            downloaded += buffer.byteLength;\n",
              "            progress.value = downloaded;\n",
              "          }\n",
              "        }\n",
              "      }\n",
              "      const blob = new Blob(buffers, {type: 'application/binary'});\n",
              "      const a = document.createElement('a');\n",
              "      a.href = window.URL.createObjectURL(blob);\n",
              "      a.download = filename;\n",
              "      div.appendChild(a);\n",
              "      a.click();\n",
              "      div.remove();\n",
              "    }\n",
              "  "
            ],
            "text/plain": [
              "<IPython.core.display.Javascript object>"
            ]
          },
          "metadata": {
            "tags": []
          }
        },
        {
          "output_type": "display_data",
          "data": {
            "application/javascript": [
              "download(\"download_74fa7a63-5552-4e7c-805f-187e844ded42\", \"resnet34-10-v2.pkl\", 87835551)"
            ],
            "text/plain": [
              "<IPython.core.display.Javascript object>"
            ]
          },
          "metadata": {
            "tags": []
          }
        }
      ]
    },
    {
      "cell_type": "markdown",
      "metadata": {
        "id": "wocId6gNHxT4"
      },
      "source": [
        "Upload Thai food images for testing"
      ]
    },
    {
      "cell_type": "code",
      "metadata": {
        "id": "vBbdwj9joHFR"
      },
      "source": [
        "uploaded = files.upload()"
      ],
      "execution_count": null,
      "outputs": []
    },
    {
      "cell_type": "markdown",
      "metadata": {
        "id": "2feDASi_H36q"
      },
      "source": [
        "Displaying the test image"
      ]
    },
    {
      "cell_type": "code",
      "metadata": {
        "id": "B06ISsj46sCZ"
      },
      "source": [
        "imagetotest='test4.jpg'\n",
        "Image(imagetotest)"
      ],
      "execution_count": null,
      "outputs": []
    },
    {
      "cell_type": "markdown",
      "metadata": {
        "id": "d7fS2rcDH76S"
      },
      "source": [
        "The model tries to predict the image"
      ]
    },
    {
      "cell_type": "code",
      "metadata": {
        "id": "3K0OcqGXtb2r"
      },
      "source": [
        "learn.predict(imagetotest)\n",
        "result=learn.predict(imagetotest)\n",
        "predictcat=int(result[0])\n",
        "predictindex=int(result[1])\n",
        "predictpct=result[2][predictindex]\n",
        "predictcat\n",
        "\"Cat=\" + str(predictcat) + \" : %=\" + str(float(predictpct)*100)"
      ],
      "execution_count": null,
      "outputs": []
    },
    {
      "cell_type": "markdown",
      "metadata": {
        "id": "smpLJm1xIC-9"
      },
      "source": [
        "Upload previous exported model here"
      ]
    },
    {
      "cell_type": "code",
      "metadata": {
        "id": "iTLAdfWKkikk"
      },
      "source": [
        "uploaded = files.upload()\n",
        "path.ls(file_exts='.pkl')"
      ],
      "execution_count": null,
      "outputs": []
    },
    {
      "cell_type": "markdown",
      "metadata": {
        "id": "ck1H6qCjIKMi"
      },
      "source": [
        "Learns from the exported model"
      ]
    },
    {
      "cell_type": "code",
      "metadata": {
        "id": "YbM9yn8AADnT"
      },
      "source": [
        "learn_inf = load_learner('resnet34-10.pkl')"
      ],
      "execution_count": null,
      "outputs": []
    },
    {
      "cell_type": "markdown",
      "metadata": {
        "id": "-eqtxBQFIO36"
      },
      "source": [
        "Predicting test image"
      ]
    },
    {
      "cell_type": "code",
      "metadata": {
        "id": "VOB6sY3zAUo-"
      },
      "source": [
        "learn_inf.predict('test4.jpg')"
      ],
      "execution_count": null,
      "outputs": []
    },
    {
      "cell_type": "markdown",
      "metadata": {
        "id": "HbZxL31OISKc"
      },
      "source": [
        "Presentation Video!"
      ]
    },
    {
      "cell_type": "code",
      "metadata": {
        "colab": {
          "base_uri": "https://localhost:8080/",
          "height": 336
        },
        "id": "5v40q-CgsJAh",
        "outputId": "1cc66ded-246f-4d7d-a8e6-93e001ea4a1f"
      },
      "source": [
        "youtubeid='EEoyMhOuCAU'\n",
        "HTML('<iframe width=\"560\" height=\"315\" src=\"https://www.youtube.com/embed/' + youtubeid + '\" frameborder=\"0\" allow=\"accelerometer; autoplay; encrypted-media; gyroscope; picture-in-picture\" allowfullscreen></iframe>')"
      ],
      "execution_count": 5,
      "outputs": [
        {
          "output_type": "execute_result",
          "data": {
            "text/html": [
              "<iframe width=\"560\" height=\"315\" src=\"https://www.youtube.com/embed/EEoyMhOuCAU\" frameborder=\"0\" allow=\"accelerometer; autoplay; encrypted-media; gyroscope; picture-in-picture\" allowfullscreen></iframe>"
            ],
            "text/plain": [
              "<IPython.core.display.HTML object>"
            ]
          },
          "metadata": {
            "tags": []
          },
          "execution_count": 5
        }
      ]
    }
  ]
}